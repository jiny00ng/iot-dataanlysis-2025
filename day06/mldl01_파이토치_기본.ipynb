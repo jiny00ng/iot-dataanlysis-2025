{
 "cells": [
  {
   "cell_type": "markdown",
   "id": "64535631",
   "metadata": {},
   "source": [
    "## 파이토치 기본\n",
    "\n",
    "### 파이토치 공식 튜토리얼\n",
    "- https://tutorials.pytorch.kr/\n",
    "\n",
    "### 파이토치 패키지(API)\n",
    "- `torch` : 메인 네임스페이스. 텐서(기본단위) 등 수학함수 포함. Numpy와 유사한 구조\n",
    "- `torch.autograd` : 자동미분을 위한 함수들 포함. 컨텍스트 매니저, 기반클래스 포함\n",
    "- `torch.nn` / `torch.nn.functional` : neuralnetwork. 신경망 구축을 휘한 데이터 구조, 레이어등이 정의되어 있는 모듈. ReLU 등도 포함\n",
    "- `torch.optim` : SGD(확률적 경사 하강법) 중심 파라미터 최적화 알고리즘 포함\n",
    "- `torch.utils` : SGD 반복 연산 시 배치용 유틸리티 함수 포함\n",
    "- torch.multiprocessing : 파이토치용 병렬프로세싱 환경을 안전하게 다루기 위한 모듈"
   ]
  },
  {
   "cell_type": "markdown",
   "id": "90dd9d86",
   "metadata": {},
   "source": [
    "### 텐서\n",
    "- 파이토치 기본단위\n",
    "    - 1차원 배열 - 백터\n",
    "    - 2차원 배열 - 행렬(매트릭스)\n",
    "    - 3차원 배열 이상 - 텐서\n",
    "\n",
    "- <img src=\"../image/ml0018.png\" width=\"700\">\n",
    "\n",
    "- <img src=\"../image/ml0019.png\" width=\"700\">"
   ]
  },
  {
   "cell_type": "code",
   "execution_count": 4,
   "id": "dda08f08",
   "metadata": {},
   "outputs": [],
   "source": [
    "import torch \n",
    "import numpy as np"
   ]
  },
  {
   "cell_type": "code",
   "execution_count": 3,
   "id": "65632874",
   "metadata": {},
   "outputs": [
    {
     "data": {
      "text/plain": [
       "tensor([1., 2., 3.])"
      ]
     },
     "execution_count": 3,
     "metadata": {},
     "output_type": "execute_result"
    }
   ],
   "source": [
    "t1 = torch.tensor([1.0, 2.0, 3.0])\n",
    "t1"
   ]
  },
  {
   "cell_type": "code",
   "execution_count": null,
   "id": "c8715cc9",
   "metadata": {},
   "outputs": [
    {
     "name": "stdout",
     "output_type": "stream",
     "text": [
      "torch.Size([3]) <built-in method type of Tensor object at 0x00000209FCF0E090> torch.FloatTensor cpu\n"
     ]
    }
   ],
   "source": [
    "# 텐서의 크기, 텐서 자료형, 자료형+전체타입, 어느 디바이스에서 사용중\n",
    "print(t1.shape, t1.type, t1.type(), t1.device)"
   ]
  },
  {
   "cell_type": "code",
   "execution_count": 8,
   "id": "acbfe603",
   "metadata": {},
   "outputs": [
    {
     "data": {
      "text/plain": [
       "array([1., 2., 3.])"
      ]
     },
     "execution_count": 8,
     "metadata": {},
     "output_type": "execute_result"
    }
   ],
   "source": [
    "n1 = np.array([1.0, 2.0, 3.0])\n",
    "n1"
   ]
  },
  {
   "cell_type": "code",
   "execution_count": 17,
   "id": "5f70ed33",
   "metadata": {},
   "outputs": [
    {
     "name": "stdout",
     "output_type": "stream",
     "text": [
      "(3,) float64\n"
     ]
    }
   ],
   "source": [
    "print(n1.shape, n1.dtype)"
   ]
  },
  {
   "cell_type": "code",
   "execution_count": 9,
   "id": "48b1d84e",
   "metadata": {},
   "outputs": [
    {
     "data": {
      "text/plain": [
       "array([[1., 1., 1.],\n",
       "       [1., 1., 1.]])"
      ]
     },
     "execution_count": 9,
     "metadata": {},
     "output_type": "execute_result"
    }
   ],
   "source": [
    "## numpy에서 1 or 0으로 초기화되는 배열 만듦\n",
    "n2 = np.ones([2, 3])\n",
    "n2"
   ]
  },
  {
   "cell_type": "code",
   "execution_count": 10,
   "id": "73ccf00d",
   "metadata": {},
   "outputs": [
    {
     "data": {
      "text/plain": [
       "array([[0., 0., 0.],\n",
       "       [0., 0., 0.]])"
      ]
     },
     "execution_count": 10,
     "metadata": {},
     "output_type": "execute_result"
    }
   ],
   "source": [
    "n3 = np.zeros([2, 3])\n",
    "n3"
   ]
  },
  {
   "cell_type": "code",
   "execution_count": 11,
   "id": "54df6b60",
   "metadata": {},
   "outputs": [
    {
     "data": {
      "text/plain": [
       "tensor([[1., 1., 1.],\n",
       "        [1., 1., 1.]])"
      ]
     },
     "execution_count": 11,
     "metadata": {},
     "output_type": "execute_result"
    }
   ],
   "source": [
    "t2 = torch.ones(2, 3)\n",
    "t2"
   ]
  },
  {
   "cell_type": "code",
   "execution_count": 13,
   "id": "0d948c17",
   "metadata": {},
   "outputs": [
    {
     "data": {
      "text/plain": [
       "tensor([[0., 0., 0.],\n",
       "        [0., 0., 0.]])"
      ]
     },
     "execution_count": 13,
     "metadata": {},
     "output_type": "execute_result"
    }
   ],
   "source": [
    "t3  = torch.zeros(2, 3)\n",
    "t3"
   ]
  },
  {
   "cell_type": "code",
   "execution_count": 14,
   "id": "5a4181f9",
   "metadata": {},
   "outputs": [
    {
     "data": {
      "text/plain": [
       "tensor([[0., 0., 0.],\n",
       "        [0., 0., 0.]], dtype=torch.float64)"
      ]
     },
     "execution_count": 14,
     "metadata": {},
     "output_type": "execute_result"
    }
   ],
   "source": [
    "# numpy로 만든 배열을 텐서로 변환\n",
    "t4 = torch.from_numpy(n3)\n",
    "t4"
   ]
  },
  {
   "cell_type": "markdown",
   "id": "c21df49c",
   "metadata": {},
   "source": [
    "- 넘파이와 파이토치 텐서간의 형변환이 아주 쉽다"
   ]
  },
  {
   "cell_type": "code",
   "execution_count": 18,
   "id": "fa3b0a12",
   "metadata": {},
   "outputs": [
    {
     "data": {
      "text/plain": [
       "tensor([[[1., 1., 1.],\n",
       "         [1., 1., 1.],\n",
       "         [1., 1., 1.]],\n",
       "\n",
       "        [[1., 1., 1.],\n",
       "         [1., 1., 1.],\n",
       "         [1., 1., 1.]],\n",
       "\n",
       "        [[1., 1., 1.],\n",
       "         [1., 1., 1.],\n",
       "         [1., 1., 1.]]])"
      ]
     },
     "execution_count": 18,
     "metadata": {},
     "output_type": "execute_result"
    }
   ],
   "source": [
    "t5 = torch.ones(3, 3, 3)\n",
    "t5"
   ]
  },
  {
   "cell_type": "code",
   "execution_count": 20,
   "id": "77789033",
   "metadata": {},
   "outputs": [
    {
     "name": "stdout",
     "output_type": "stream",
     "text": [
      "torch.Size([3, 3, 3]) torch.float32 torch.FloatTensor cpu\n",
      "torch.Size([3, 3, 3])\n"
     ]
    }
   ],
   "source": [
    "print(t5.shape, t5.dtype, t5.type(), t5.device)\n",
    "print(t5.size())"
   ]
  },
  {
   "cell_type": "code",
   "execution_count": 38,
   "id": "a6fc2d5a",
   "metadata": {},
   "outputs": [
    {
     "data": {
      "text/plain": [
       "tensor([[0.9176, 0.0721, 0.9569],\n",
       "        [0.3502, 0.6293, 0.4187]])"
      ]
     },
     "execution_count": 38,
     "metadata": {},
     "output_type": "execute_result"
    }
   ],
   "source": [
    "# 랜덤값, randn()은 정규화\n",
    "t6 = torch.rand(2, 3)\n",
    "t6"
   ]
  },
  {
   "cell_type": "code",
   "execution_count": 21,
   "id": "f4a7cd34",
   "metadata": {},
   "outputs": [
    {
     "data": {
      "text/plain": [
       "device(type='cuda')"
      ]
     },
     "execution_count": 21,
     "metadata": {},
     "output_type": "execute_result"
    }
   ],
   "source": [
    "# cpu에 있는 텐서를 cuda로 이동\n",
    "device = torch.device('cuda' if torch.cuda.is_available() else 'cpu')\n",
    "device"
   ]
  },
  {
   "cell_type": "code",
   "execution_count": 22,
   "id": "9adf3625",
   "metadata": {},
   "outputs": [],
   "source": [
    "# t5(cpu)에 있는 텐서를 cuda로 변수명을 다르게 하면 복사, 변수명을 똑같이 하면 이동\n",
    "t5 = t5.to(device=device)"
   ]
  },
  {
   "cell_type": "code",
   "execution_count": 23,
   "id": "2813704a",
   "metadata": {},
   "outputs": [
    {
     "name": "stdout",
     "output_type": "stream",
     "text": [
      "torch.Size([3, 3, 3]) torch.float32 torch.cuda.FloatTensor cuda:0\n"
     ]
    }
   ],
   "source": [
    "print(t5.shape, t5.dtype, t5.type(), t5.device)"
   ]
  },
  {
   "cell_type": "markdown",
   "id": "be97eb01",
   "metadata": {},
   "source": [
    "- cuda(GPU 사용하는 것) : 0(그래픽카드가 다수일 수 있음)\n",
    "- 파이토치의 텐서사용 == 넘파이 배열 사용"
   ]
  },
  {
   "cell_type": "markdown",
   "id": "d6255038",
   "metadata": {},
   "source": [
    "### GPU 사용법"
   ]
  },
  {
   "cell_type": "code",
   "execution_count": 154,
   "id": "358020a1",
   "metadata": {},
   "outputs": [
    {
     "data": {
      "text/plain": [
       "tensor([[1.1275]], grad_fn=<AddmmBackward0>)"
      ]
     },
     "execution_count": 154,
     "metadata": {},
     "output_type": "execute_result"
    }
   ],
   "source": [
    "import torch.nn as nn\n",
    "\n",
    "# 신경망 모델 생성 - 3개의 입력을 넣어서 하나의 출력을 내는 신경망\n",
    "model = torch.nn.Linear(3, 1)\n",
    "\n",
    "sample_input = torch.tensor([[1.0, 2.0, 3.0]])\n",
    "output = model(sample_input) \n",
    "\n",
    "output"
   ]
  },
  {
   "cell_type": "code",
   "execution_count": 156,
   "id": "112c2005",
   "metadata": {},
   "outputs": [
    {
     "data": {
      "text/plain": [
       "tensor([[0.9724]], device='cuda:0', grad_fn=<AddmmBackward0>)"
      ]
     },
     "execution_count": 156,
     "metadata": {},
     "output_type": "execute_result"
    }
   ],
   "source": [
    "# CUDA 사용\n",
    "import torch.nn as nn\n",
    "\n",
    "# 신경망 모델 생성 - 3개의 입력을 넣어서 하나의 출력을 내는 신경망\n",
    "model = torch.nn.Linear(3, 1)\n",
    "model.to(device)\n",
    "\n",
    "sample_input = torch.tensor([[1.0, 2.0, 3.0]]).to(device)\n",
    "output = model(sample_input) \n",
    "\n",
    "output"
   ]
  },
  {
   "cell_type": "markdown",
   "id": "d9260a98",
   "metadata": {},
   "source": [
    "#### 기본구조 추가"
   ]
  },
  {
   "cell_type": "markdown",
   "id": "7d8679c4",
   "metadata": {},
   "source": [
    "### PyTorch 모델 학습\n",
    "- torch.nn.Module 로 신경망 모델 만들기 - 텐서플로우(함수)와 차이점 확인\n",
    "- 손실 함수, 옵티마이저 설정 학습\n",
    "- 학습 루프 기본 구조 학습"
   ]
  },
  {
   "cell_type": "code",
   "execution_count": 157,
   "id": "7085370f",
   "metadata": {},
   "outputs": [],
   "source": [
    "# 파이토치 모듈 로드\n",
    "import torch\n",
    "import torch.nn as nn\n",
    "import torch.nn.functional as F    # 보통 F로 사용\n",
    "\n",
    "# 모델 선언\n",
    "class SimpleNet(nn.Module):     # nn.Module 클래스를 상속해서 클래스 생성\n",
    "    def __init__(self):\n",
    "        super(SimpleNet, self).__init__()\n",
    "        # Linear : Dense Layer(케라스의 Dense()와 동일)\n",
    "        self.fc1 = nn.Linear(4, 16)     # input: 4개 입력, output: 16개 뉴런\n",
    "        self.fc2 = nn.Linear(16, 3)     # input: 16개 입력, output: 3개 클래스(3가지 분류 예측)\n",
    "    \n",
    "    def forward(self, x):           # 실제 연산이 수행되는 함수(자동 호출)\n",
    "        x = F.relu(self.fc1(x))     # 첫번째 레이어 통과 - 활성함수 relu(시그모이드, 소프트맥스, 렐루 모두 존재)\n",
    "        x = self.fc2(x)             # 두번째 레이어 통과 - 출력층(필요시 softmax, loss함수 사용)\n",
    "        return x"
   ]
  },
  {
   "cell_type": "markdown",
   "id": "05c9b4bd",
   "metadata": {},
   "source": [
    "- 텐서플로우(케라스)는 중간층에서 입력값을 설정하지 않아도 됨\n",
    "- 파이토치는 입력값, 출력값을 모두 설정해야 함"
   ]
  },
  {
   "cell_type": "markdown",
   "id": "412e3535",
   "metadata": {},
   "source": [
    "#### 모델 생성"
   ]
  },
  {
   "cell_type": "code",
   "execution_count": 58,
   "id": "4b87b6b8",
   "metadata": {},
   "outputs": [
    {
     "data": {
      "text/plain": [
       "SimpleNet(\n",
       "  (fc1): Linear(in_features=4, out_features=16, bias=True)\n",
       "  (fc2): Linear(in_features=16, out_features=3, bias=True)\n",
       ")"
      ]
     },
     "execution_count": 58,
     "metadata": {},
     "output_type": "execute_result"
    }
   ],
   "source": [
    "# 모델확인\n",
    "model = SimpleNet()\n",
    "model"
   ]
  },
  {
   "cell_type": "code",
   "execution_count": 59,
   "id": "850bace7",
   "metadata": {},
   "outputs": [
    {
     "data": {
      "text/plain": [
       "tensor([[0.5901, 0.6316, 0.8091, 0.2267]])"
      ]
     },
     "execution_count": 59,
     "metadata": {},
     "output_type": "execute_result"
    }
   ],
   "source": [
    "# 샘플 입력값\n",
    "x = torch.rand(1, 4)\n",
    "x"
   ]
  },
  {
   "cell_type": "code",
   "execution_count": 73,
   "id": "4df2f115",
   "metadata": {},
   "outputs": [
    {
     "data": {
      "text/plain": [
       "tensor([[ 0.0481,  0.0046, -0.2156]], grad_fn=<AddmmBackward0>)"
      ]
     },
     "execution_count": 73,
     "metadata": {},
     "output_type": "execute_result"
    }
   ],
   "source": [
    "out = model(x)\n",
    "out"
   ]
  },
  {
   "cell_type": "markdown",
   "id": "e0e488ea",
   "metadata": {},
   "source": [
    "#### 손실함수/ 옵티마이저 설정"
   ]
  },
  {
   "cell_type": "code",
   "execution_count": 75,
   "id": "1c6bd497",
   "metadata": {},
   "outputs": [],
   "source": [
    "# 분류(마지막 출력 3개) CrossEntropyLoss - \n",
    "creterion = nn.CrossEntropyLoss()\n",
    "\n",
    "# 옵티마이저(Adam 권장)\n",
    "optimizer = torch.optim.Adam(model.parameters(), lr=0.01)   # lr(learning rate)학습률 : 보통 0.01 ~ 0.001 사이로 지정"
   ]
  },
  {
   "cell_type": "markdown",
   "id": "104d5cb6",
   "metadata": {},
   "source": [
    "#### 1회 Epoch 학습"
   ]
  },
  {
   "cell_type": "code",
   "execution_count": 106,
   "id": "ba2df0ba",
   "metadata": {},
   "outputs": [
    {
     "data": {
      "text/plain": [
       "0.678404688835144"
      ]
     },
     "execution_count": 106,
     "metadata": {},
     "output_type": "execute_result"
    }
   ],
   "source": [
    "y = torch.tensor([1])\n",
    "\n",
    "# Foward\n",
    "# 예측\n",
    "outputs = model(x)\n",
    "# 손실계산\n",
    "loss = creterion(outputs, y)\n",
    "\n",
    "# Backward(역전파) : 뉴런을 통과한 값이 다시 다음 훈련의 입력으로 사용\n",
    "# 기울기(가중치) 초기화\n",
    "optimizer.zero_grad()   # 이전 단계에서 계산된 gradient(기울기/가중치) 초기화\n",
    "# 역전파 계산\n",
    "loss.backward()     # 손실 기준으로 각 파라미터에 대한 gradient 계산(오차 역전파)\n",
    "# 파라미터 업데이트\n",
    "optimizer.step()      # 계산한 gradient를 이용해서 파라미터 업데이트(학습훈련)\n",
    "\n",
    "# 현재 손실 값을 출력\n",
    "loss.item()"
   ]
  },
  {
   "cell_type": "markdown",
   "id": "724b509f",
   "metadata": {},
   "source": [
    "### 데이터셋, 데이터로더\n",
    "- `Dataset`, `DataLoaer` 학습\n",
    "- 내장 데이터셋\n",
    "- 커스텀 데이터셋 만들기\n",
    "- 배치 학습 처리"
   ]
  },
  {
   "cell_type": "markdown",
   "id": "12748bd7",
   "metadata": {},
   "source": [
    "#### 데이터셋, 데이터로더란?\n",
    "- Dataset - 데이터를 불러오는 방법\n",
    "- DataLoader - 데이터를 배치 단위로 나누기, 셔플, 병렬처리 방법"
   ]
  },
  {
   "cell_type": "markdown",
   "id": "824f3d83",
   "metadata": {},
   "source": [
    "#### 추가\n",
    "- 머신러닝, 딥러닝에 사용되는 데이터샘플 종류 예제"
   ]
  },
  {
   "cell_type": "code",
   "execution_count": 110,
   "id": "fe7ff708",
   "metadata": {},
   "outputs": [],
   "source": [
    "from sklearn.datasets import load_breast_cancer, load_wine      # 11개 데이터셋\n",
    "import seaborn as sns\n",
    "\n",
    "datas = sns.load_dataset('titanic')    # https://github.com/mwaskom/seaborn-data 에서 확인\n",
    "\n",
    "from torchvision.datasets import FashionMNIST, MNIST, CIFAR10   # 이미지 데이터셋\n",
    "from keras.datasets import mnist, fashion_mnist, boston_housing, cifar10, cifar100, imdb    # 이미지, 텍스트 데이터셋"
   ]
  },
  {
   "cell_type": "code",
   "execution_count": 111,
   "id": "1026e345",
   "metadata": {},
   "outputs": [
    {
     "data": {
      "text/html": [
       "<div>\n",
       "<style scoped>\n",
       "    .dataframe tbody tr th:only-of-type {\n",
       "        vertical-align: middle;\n",
       "    }\n",
       "\n",
       "    .dataframe tbody tr th {\n",
       "        vertical-align: top;\n",
       "    }\n",
       "\n",
       "    .dataframe thead th {\n",
       "        text-align: right;\n",
       "    }\n",
       "</style>\n",
       "<table border=\"1\" class=\"dataframe\">\n",
       "  <thead>\n",
       "    <tr style=\"text-align: right;\">\n",
       "      <th></th>\n",
       "      <th>survived</th>\n",
       "      <th>pclass</th>\n",
       "      <th>sex</th>\n",
       "      <th>age</th>\n",
       "      <th>sibsp</th>\n",
       "      <th>parch</th>\n",
       "      <th>fare</th>\n",
       "      <th>embarked</th>\n",
       "      <th>class</th>\n",
       "      <th>who</th>\n",
       "      <th>adult_male</th>\n",
       "      <th>deck</th>\n",
       "      <th>embark_town</th>\n",
       "      <th>alive</th>\n",
       "      <th>alone</th>\n",
       "    </tr>\n",
       "  </thead>\n",
       "  <tbody>\n",
       "    <tr>\n",
       "      <th>0</th>\n",
       "      <td>0</td>\n",
       "      <td>3</td>\n",
       "      <td>male</td>\n",
       "      <td>22.0</td>\n",
       "      <td>1</td>\n",
       "      <td>0</td>\n",
       "      <td>7.2500</td>\n",
       "      <td>S</td>\n",
       "      <td>Third</td>\n",
       "      <td>man</td>\n",
       "      <td>True</td>\n",
       "      <td>NaN</td>\n",
       "      <td>Southampton</td>\n",
       "      <td>no</td>\n",
       "      <td>False</td>\n",
       "    </tr>\n",
       "    <tr>\n",
       "      <th>1</th>\n",
       "      <td>1</td>\n",
       "      <td>1</td>\n",
       "      <td>female</td>\n",
       "      <td>38.0</td>\n",
       "      <td>1</td>\n",
       "      <td>0</td>\n",
       "      <td>71.2833</td>\n",
       "      <td>C</td>\n",
       "      <td>First</td>\n",
       "      <td>woman</td>\n",
       "      <td>False</td>\n",
       "      <td>C</td>\n",
       "      <td>Cherbourg</td>\n",
       "      <td>yes</td>\n",
       "      <td>False</td>\n",
       "    </tr>\n",
       "    <tr>\n",
       "      <th>2</th>\n",
       "      <td>1</td>\n",
       "      <td>3</td>\n",
       "      <td>female</td>\n",
       "      <td>26.0</td>\n",
       "      <td>0</td>\n",
       "      <td>0</td>\n",
       "      <td>7.9250</td>\n",
       "      <td>S</td>\n",
       "      <td>Third</td>\n",
       "      <td>woman</td>\n",
       "      <td>False</td>\n",
       "      <td>NaN</td>\n",
       "      <td>Southampton</td>\n",
       "      <td>yes</td>\n",
       "      <td>True</td>\n",
       "    </tr>\n",
       "    <tr>\n",
       "      <th>3</th>\n",
       "      <td>1</td>\n",
       "      <td>1</td>\n",
       "      <td>female</td>\n",
       "      <td>35.0</td>\n",
       "      <td>1</td>\n",
       "      <td>0</td>\n",
       "      <td>53.1000</td>\n",
       "      <td>S</td>\n",
       "      <td>First</td>\n",
       "      <td>woman</td>\n",
       "      <td>False</td>\n",
       "      <td>C</td>\n",
       "      <td>Southampton</td>\n",
       "      <td>yes</td>\n",
       "      <td>False</td>\n",
       "    </tr>\n",
       "    <tr>\n",
       "      <th>4</th>\n",
       "      <td>0</td>\n",
       "      <td>3</td>\n",
       "      <td>male</td>\n",
       "      <td>35.0</td>\n",
       "      <td>0</td>\n",
       "      <td>0</td>\n",
       "      <td>8.0500</td>\n",
       "      <td>S</td>\n",
       "      <td>Third</td>\n",
       "      <td>man</td>\n",
       "      <td>True</td>\n",
       "      <td>NaN</td>\n",
       "      <td>Southampton</td>\n",
       "      <td>no</td>\n",
       "      <td>True</td>\n",
       "    </tr>\n",
       "    <tr>\n",
       "      <th>...</th>\n",
       "      <td>...</td>\n",
       "      <td>...</td>\n",
       "      <td>...</td>\n",
       "      <td>...</td>\n",
       "      <td>...</td>\n",
       "      <td>...</td>\n",
       "      <td>...</td>\n",
       "      <td>...</td>\n",
       "      <td>...</td>\n",
       "      <td>...</td>\n",
       "      <td>...</td>\n",
       "      <td>...</td>\n",
       "      <td>...</td>\n",
       "      <td>...</td>\n",
       "      <td>...</td>\n",
       "    </tr>\n",
       "    <tr>\n",
       "      <th>886</th>\n",
       "      <td>0</td>\n",
       "      <td>2</td>\n",
       "      <td>male</td>\n",
       "      <td>27.0</td>\n",
       "      <td>0</td>\n",
       "      <td>0</td>\n",
       "      <td>13.0000</td>\n",
       "      <td>S</td>\n",
       "      <td>Second</td>\n",
       "      <td>man</td>\n",
       "      <td>True</td>\n",
       "      <td>NaN</td>\n",
       "      <td>Southampton</td>\n",
       "      <td>no</td>\n",
       "      <td>True</td>\n",
       "    </tr>\n",
       "    <tr>\n",
       "      <th>887</th>\n",
       "      <td>1</td>\n",
       "      <td>1</td>\n",
       "      <td>female</td>\n",
       "      <td>19.0</td>\n",
       "      <td>0</td>\n",
       "      <td>0</td>\n",
       "      <td>30.0000</td>\n",
       "      <td>S</td>\n",
       "      <td>First</td>\n",
       "      <td>woman</td>\n",
       "      <td>False</td>\n",
       "      <td>B</td>\n",
       "      <td>Southampton</td>\n",
       "      <td>yes</td>\n",
       "      <td>True</td>\n",
       "    </tr>\n",
       "    <tr>\n",
       "      <th>888</th>\n",
       "      <td>0</td>\n",
       "      <td>3</td>\n",
       "      <td>female</td>\n",
       "      <td>NaN</td>\n",
       "      <td>1</td>\n",
       "      <td>2</td>\n",
       "      <td>23.4500</td>\n",
       "      <td>S</td>\n",
       "      <td>Third</td>\n",
       "      <td>woman</td>\n",
       "      <td>False</td>\n",
       "      <td>NaN</td>\n",
       "      <td>Southampton</td>\n",
       "      <td>no</td>\n",
       "      <td>False</td>\n",
       "    </tr>\n",
       "    <tr>\n",
       "      <th>889</th>\n",
       "      <td>1</td>\n",
       "      <td>1</td>\n",
       "      <td>male</td>\n",
       "      <td>26.0</td>\n",
       "      <td>0</td>\n",
       "      <td>0</td>\n",
       "      <td>30.0000</td>\n",
       "      <td>C</td>\n",
       "      <td>First</td>\n",
       "      <td>man</td>\n",
       "      <td>True</td>\n",
       "      <td>C</td>\n",
       "      <td>Cherbourg</td>\n",
       "      <td>yes</td>\n",
       "      <td>True</td>\n",
       "    </tr>\n",
       "    <tr>\n",
       "      <th>890</th>\n",
       "      <td>0</td>\n",
       "      <td>3</td>\n",
       "      <td>male</td>\n",
       "      <td>32.0</td>\n",
       "      <td>0</td>\n",
       "      <td>0</td>\n",
       "      <td>7.7500</td>\n",
       "      <td>Q</td>\n",
       "      <td>Third</td>\n",
       "      <td>man</td>\n",
       "      <td>True</td>\n",
       "      <td>NaN</td>\n",
       "      <td>Queenstown</td>\n",
       "      <td>no</td>\n",
       "      <td>True</td>\n",
       "    </tr>\n",
       "  </tbody>\n",
       "</table>\n",
       "<p>891 rows × 15 columns</p>\n",
       "</div>"
      ],
      "text/plain": [
       "     survived  pclass     sex   age  ...  deck  embark_town  alive  alone\n",
       "0           0       3    male  22.0  ...   NaN  Southampton     no  False\n",
       "1           1       1  female  38.0  ...     C    Cherbourg    yes  False\n",
       "2           1       3  female  26.0  ...   NaN  Southampton    yes   True\n",
       "3           1       1  female  35.0  ...     C  Southampton    yes  False\n",
       "4           0       3    male  35.0  ...   NaN  Southampton     no   True\n",
       "..        ...     ...     ...   ...  ...   ...          ...    ...    ...\n",
       "886         0       2    male  27.0  ...   NaN  Southampton     no   True\n",
       "887         1       1  female  19.0  ...     B  Southampton    yes   True\n",
       "888         0       3  female   NaN  ...   NaN  Southampton     no  False\n",
       "889         1       1    male  26.0  ...     C    Cherbourg    yes   True\n",
       "890         0       3    male  32.0  ...   NaN   Queenstown     no   True\n",
       "\n",
       "[891 rows x 15 columns]"
      ]
     },
     "execution_count": 111,
     "metadata": {},
     "output_type": "execute_result"
    }
   ],
   "source": [
    "datas"
   ]
  },
  {
   "cell_type": "markdown",
   "id": "62bb7b2b",
   "metadata": {},
   "source": [
    "#### 붓꽃(Iris) 데이터세 사용"
   ]
  },
  {
   "cell_type": "code",
   "execution_count": 127,
   "id": "e1dca5ea",
   "metadata": {},
   "outputs": [],
   "source": [
    "# 데이터셋 처리 모듈 로드\n",
    "from sklearn.datasets import load_iris, load_wine\n",
    "from sklearn.preprocessing import StandardScaler\n",
    "from sklearn.model_selection import train_test_split\n",
    "import torch\n",
    "from torch.utils.data import Dataset, DataLoader"
   ]
  },
  {
   "cell_type": "code",
   "execution_count": 115,
   "id": "ade8dfdd",
   "metadata": {},
   "outputs": [
    {
     "name": "stdout",
     "output_type": "stream",
     "text": [
      "(150, 4) (150,)\n"
     ]
    }
   ],
   "source": [
    "# 데이터 로드\n",
    "iris = load_iris()\n",
    "\n",
    "# 입력(특성)데이터 X, 타겟 y == input, target\n",
    "X = iris['data']\n",
    "y = iris['target']\n",
    "\n",
    "print(X.shape, y.shape)     # numpy 데이터"
   ]
  },
  {
   "cell_type": "code",
   "execution_count": null,
   "id": "3166f1d9",
   "metadata": {},
   "outputs": [
    {
     "data": {
      "text/plain": [
       "array([5.1, 3.5, 1.4, 0.2])"
      ]
     },
     "execution_count": 117,
     "metadata": {},
     "output_type": "execute_result"
    }
   ],
   "source": [
    "# sepal(꽃받침) length(cm), sepal width(cm), petal(꽃잎) length(cm), petal width(cm)\n",
    "X[0, : ]"
   ]
  },
  {
   "cell_type": "code",
   "execution_count": 118,
   "id": "e7b16e99",
   "metadata": {},
   "outputs": [
    {
     "data": {
      "text/plain": [
       "array([0, 0, 0, 0, 0, 0, 0, 0, 0, 0, 0, 0, 0, 0, 0, 0, 0, 0, 0, 0, 0, 0,\n",
       "       0, 0, 0, 0, 0, 0, 0, 0, 0, 0, 0, 0, 0, 0, 0, 0, 0, 0, 0, 0, 0, 0,\n",
       "       0, 0, 0, 0, 0, 0, 1, 1, 1, 1, 1, 1, 1, 1, 1, 1, 1, 1, 1, 1, 1, 1,\n",
       "       1, 1, 1, 1, 1, 1, 1, 1, 1, 1, 1, 1, 1, 1, 1, 1, 1, 1, 1, 1, 1, 1,\n",
       "       1, 1, 1, 1, 1, 1, 1, 1, 1, 1, 1, 1, 2, 2, 2, 2, 2, 2, 2, 2, 2, 2,\n",
       "       2, 2, 2, 2, 2, 2, 2, 2, 2, 2, 2, 2, 2, 2, 2, 2, 2, 2, 2, 2, 2, 2,\n",
       "       2, 2, 2, 2, 2, 2, 2, 2, 2, 2, 2, 2, 2, 2, 2, 2, 2, 2])"
      ]
     },
     "execution_count": 118,
     "metadata": {},
     "output_type": "execute_result"
    }
   ],
   "source": [
    "# 0(setosa), 1(versicolor), 2(virginica)\n",
    "y"
   ]
  },
  {
   "cell_type": "code",
   "execution_count": 119,
   "id": "7efd9d40",
   "metadata": {},
   "outputs": [],
   "source": [
    "# 표준화(정규화)\n",
    "scaler = StandardScaler()   # 사이킷런의 표준정규화 클래스 사용\n",
    "X = scaler.fit_transform(X)"
   ]
  },
  {
   "cell_type": "code",
   "execution_count": null,
   "id": "05a06a66",
   "metadata": {},
   "outputs": [
    {
     "data": {
      "text/plain": [
       "array([-0.90068117,  1.01900435, -1.34022653, -1.3154443 ])"
      ]
     },
     "execution_count": 120,
     "metadata": {},
     "output_type": "execute_result"
    }
   ],
   "source": [
    "X[0, :]     # 이전 array([5.1, 3.5, 1.4, 0.2])"
   ]
  },
  {
   "cell_type": "code",
   "execution_count": 123,
   "id": "e8e232b2",
   "metadata": {},
   "outputs": [],
   "source": [
    "# 훈련/테스트세트 분리\n",
    "train_scaled, test_scaled, train_target, test_target = train_test_split(X, y, test_size=0.2, random_state=42)"
   ]
  },
  {
   "cell_type": "code",
   "execution_count": null,
   "id": "e9fc9742",
   "metadata": {},
   "outputs": [],
   "source": [
    "# 훈련/검증세트 분리\n",
    "train_scaled, val_scaled, train_target, val_target = train_test_split(train_scaled, train_target, test_size=0.2, random_state=42)"
   ]
  },
  {
   "cell_type": "code",
   "execution_count": 125,
   "id": "7a4b86a2",
   "metadata": {},
   "outputs": [
    {
     "name": "stdout",
     "output_type": "stream",
     "text": [
      "(96, 4) (24, 4) (30, 4)\n"
     ]
    }
   ],
   "source": [
    "print(train_scaled.shape, val_scaled.shape, test_scaled.shape)"
   ]
  },
  {
   "cell_type": "code",
   "execution_count": 126,
   "id": "12135f83",
   "metadata": {},
   "outputs": [
    {
     "data": {
      "text/plain": [
       "array([2, 1, 1, 0, 2, 2, 2, 0, 1, 2, 2, 1, 2, 1, 1, 0, 0, 1, 2, 0, 0, 2,\n",
       "       2, 1, 2, 1, 1, 0, 2, 0, 1, 2, 0, 2, 0, 0, 2, 0, 2, 1, 2, 0, 0, 0,\n",
       "       0, 2, 0, 0, 1, 2, 1, 0, 1, 2, 1, 2, 2, 2, 2, 1, 1, 0, 0, 0, 2, 0,\n",
       "       0, 0, 2, 1, 2, 1, 2, 1, 1, 0, 0, 2, 1, 0, 2, 1, 2, 1, 2, 1, 1, 2,\n",
       "       1, 1, 0, 2, 0, 1, 0, 0])"
      ]
     },
     "execution_count": 126,
     "metadata": {},
     "output_type": "execute_result"
    }
   ],
   "source": [
    "train_target"
   ]
  },
  {
   "cell_type": "markdown",
   "id": "9d039aeb",
   "metadata": {},
   "source": [
    "#### 커스텀 데이터셋 만들기"
   ]
  },
  {
   "cell_type": "code",
   "execution_count": 136,
   "id": "47247286",
   "metadata": {},
   "outputs": [],
   "source": [
    "class IrisDataset(Dataset):\n",
    "    def __init__(self, X, y):\n",
    "        self.X = torch.tensor(X, dtype=torch.float32)   # 특성(입력)값은 실수\n",
    "        self.y = torch.tensor(y, dtype=torch.long)      # CrossEntropyLoss에서는 long타입 필요\n",
    "\n",
    "    def __len__(self):\n",
    "        return len(self.X)\n",
    "    \n",
    "    def __getitem__(self, index):\n",
    "        return self.X[index], self.y[index]\n",
    "        "
   ]
  },
  {
   "cell_type": "markdown",
   "id": "0cbe9f61",
   "metadata": {},
   "source": [
    "- 데이터셋으로 묶고, 데이터로더로 묶기"
   ]
  },
  {
   "cell_type": "code",
   "execution_count": null,
   "id": "f6dfaf1a",
   "metadata": {},
   "outputs": [],
   "source": [
    "# 커스텀 데이터셋으로 생성 - 입력(특성)과 타겟을 하나로 묶음\n",
    "train_dataset = IrisDataset(train_scaled, train_target)\n",
    "val_dataset = IrisDataset(val_scaled, val_target)"
   ]
  },
  {
   "cell_type": "code",
   "execution_count": 138,
   "id": "b215533f",
   "metadata": {},
   "outputs": [],
   "source": [
    "# 데이터로더로 생성 - 배치학습, 셔플, 병렬 데이터 로딩\n",
    "train_loader = DataLoader(train_dataset, batch_size=8, shuffle=True)\n",
    "val_loader = DataLoader(val_dataset, batch_size=8)"
   ]
  },
  {
   "cell_type": "markdown",
   "id": "533515ce",
   "metadata": {},
   "source": [
    "- 실제 모델 훈련에서는 DataLoader를 사용"
   ]
  },
  {
   "cell_type": "markdown",
   "id": "86abf345",
   "metadata": {},
   "source": [
    "#### 배치 학습 반복"
   ]
  },
  {
   "cell_type": "code",
   "execution_count": 158,
   "id": "a33a5f98",
   "metadata": {},
   "outputs": [
    {
     "ename": "RuntimeError",
     "evalue": "Expected all tensors to be on the same device, but found at least two devices, cuda:0 and cpu! (when checking argument for argument mat1 in method wrapper_CUDA_addmm)",
     "output_type": "error",
     "traceback": [
      "\u001b[31m---------------------------------------------------------------------------\u001b[39m",
      "\u001b[31mRuntimeError\u001b[39m                              Traceback (most recent call last)",
      "\u001b[36mCell\u001b[39m\u001b[36m \u001b[39m\u001b[32mIn[158]\u001b[39m\u001b[32m, line 2\u001b[39m\n\u001b[32m      1\u001b[39m \u001b[38;5;28;01mfor\u001b[39;00m batch_input, batch_target \u001b[38;5;129;01min\u001b[39;00m train_loader:\n\u001b[32m----> \u001b[39m\u001b[32m2\u001b[39m     outputs = \u001b[43mmodel\u001b[49m\u001b[43m(\u001b[49m\u001b[43mbatch_input\u001b[49m\u001b[43m)\u001b[49m\n\u001b[32m      3\u001b[39m     loss = criterion(outputs, batch_target)\n\u001b[32m      5\u001b[39m     \u001b[38;5;28mprint\u001b[39m(\u001b[33mf\u001b[39m\u001b[33m'\u001b[39m\u001b[33mBatch loss : \u001b[39m\u001b[38;5;132;01m{\u001b[39;00mloss.item()\u001b[38;5;132;01m}\u001b[39;00m\u001b[33m / \u001b[39m\u001b[38;5;132;01m{\u001b[39;00mi\u001b[38;5;132;01m}\u001b[39;00m\u001b[33m'\u001b[39m)\n",
      "\u001b[36mFile \u001b[39m\u001b[32mc:\\source\\iot-dataanlysis-2025\\mlvenv\\Lib\\site-packages\\torch\\nn\\modules\\module.py:1739\u001b[39m, in \u001b[36mModule._wrapped_call_impl\u001b[39m\u001b[34m(self, *args, **kwargs)\u001b[39m\n\u001b[32m   1737\u001b[39m     \u001b[38;5;28;01mreturn\u001b[39;00m \u001b[38;5;28mself\u001b[39m._compiled_call_impl(*args, **kwargs)  \u001b[38;5;66;03m# type: ignore[misc]\u001b[39;00m\n\u001b[32m   1738\u001b[39m \u001b[38;5;28;01melse\u001b[39;00m:\n\u001b[32m-> \u001b[39m\u001b[32m1739\u001b[39m     \u001b[38;5;28;01mreturn\u001b[39;00m \u001b[38;5;28;43mself\u001b[39;49m\u001b[43m.\u001b[49m\u001b[43m_call_impl\u001b[49m\u001b[43m(\u001b[49m\u001b[43m*\u001b[49m\u001b[43margs\u001b[49m\u001b[43m,\u001b[49m\u001b[43m \u001b[49m\u001b[43m*\u001b[49m\u001b[43m*\u001b[49m\u001b[43mkwargs\u001b[49m\u001b[43m)\u001b[49m\n",
      "\u001b[36mFile \u001b[39m\u001b[32mc:\\source\\iot-dataanlysis-2025\\mlvenv\\Lib\\site-packages\\torch\\nn\\modules\\module.py:1750\u001b[39m, in \u001b[36mModule._call_impl\u001b[39m\u001b[34m(self, *args, **kwargs)\u001b[39m\n\u001b[32m   1745\u001b[39m \u001b[38;5;66;03m# If we don't have any hooks, we want to skip the rest of the logic in\u001b[39;00m\n\u001b[32m   1746\u001b[39m \u001b[38;5;66;03m# this function, and just call forward.\u001b[39;00m\n\u001b[32m   1747\u001b[39m \u001b[38;5;28;01mif\u001b[39;00m \u001b[38;5;129;01mnot\u001b[39;00m (\u001b[38;5;28mself\u001b[39m._backward_hooks \u001b[38;5;129;01mor\u001b[39;00m \u001b[38;5;28mself\u001b[39m._backward_pre_hooks \u001b[38;5;129;01mor\u001b[39;00m \u001b[38;5;28mself\u001b[39m._forward_hooks \u001b[38;5;129;01mor\u001b[39;00m \u001b[38;5;28mself\u001b[39m._forward_pre_hooks\n\u001b[32m   1748\u001b[39m         \u001b[38;5;129;01mor\u001b[39;00m _global_backward_pre_hooks \u001b[38;5;129;01mor\u001b[39;00m _global_backward_hooks\n\u001b[32m   1749\u001b[39m         \u001b[38;5;129;01mor\u001b[39;00m _global_forward_hooks \u001b[38;5;129;01mor\u001b[39;00m _global_forward_pre_hooks):\n\u001b[32m-> \u001b[39m\u001b[32m1750\u001b[39m     \u001b[38;5;28;01mreturn\u001b[39;00m \u001b[43mforward_call\u001b[49m\u001b[43m(\u001b[49m\u001b[43m*\u001b[49m\u001b[43margs\u001b[49m\u001b[43m,\u001b[49m\u001b[43m \u001b[49m\u001b[43m*\u001b[49m\u001b[43m*\u001b[49m\u001b[43mkwargs\u001b[49m\u001b[43m)\u001b[49m\n\u001b[32m   1752\u001b[39m result = \u001b[38;5;28;01mNone\u001b[39;00m\n\u001b[32m   1753\u001b[39m called_always_called_hooks = \u001b[38;5;28mset\u001b[39m()\n",
      "\u001b[36mFile \u001b[39m\u001b[32mc:\\source\\iot-dataanlysis-2025\\mlvenv\\Lib\\site-packages\\torch\\nn\\modules\\linear.py:125\u001b[39m, in \u001b[36mLinear.forward\u001b[39m\u001b[34m(self, input)\u001b[39m\n\u001b[32m    124\u001b[39m \u001b[38;5;28;01mdef\u001b[39;00m\u001b[38;5;250m \u001b[39m\u001b[34mforward\u001b[39m(\u001b[38;5;28mself\u001b[39m, \u001b[38;5;28minput\u001b[39m: Tensor) -> Tensor:\n\u001b[32m--> \u001b[39m\u001b[32m125\u001b[39m     \u001b[38;5;28;01mreturn\u001b[39;00m \u001b[43mF\u001b[49m\u001b[43m.\u001b[49m\u001b[43mlinear\u001b[49m\u001b[43m(\u001b[49m\u001b[38;5;28;43minput\u001b[39;49m\u001b[43m,\u001b[49m\u001b[43m \u001b[49m\u001b[38;5;28;43mself\u001b[39;49m\u001b[43m.\u001b[49m\u001b[43mweight\u001b[49m\u001b[43m,\u001b[49m\u001b[43m \u001b[49m\u001b[38;5;28;43mself\u001b[39;49m\u001b[43m.\u001b[49m\u001b[43mbias\u001b[49m\u001b[43m)\u001b[49m\n",
      "\u001b[31mRuntimeError\u001b[39m: Expected all tensors to be on the same device, but found at least two devices, cuda:0 and cpu! (when checking argument for argument mat1 in method wrapper_CUDA_addmm)"
     ]
    }
   ],
   "source": [
    "for batch_input, batch_target in train_loader:\n",
    "    outputs = model(batch_input)\n",
    "    loss = criterion(outputs, batch_target)\n",
    "    \n",
    "    print(f'Batch loss : {loss.item()} / {i}')\n",
    "    i = i + 1\n",
    "\n"
   ]
  },
  {
   "cell_type": "markdown",
   "id": "82c680b2",
   "metadata": {},
   "source": [
    "- 96개 입력을 16으로 나눔: 배치사이즈가 16이니까 6번 epoch"
   ]
  },
  {
   "cell_type": "markdown",
   "id": "f7c8d996",
   "metadata": {},
   "source": [
    "### 학습루프 작성\n",
    "- 전체 학습 루프 구성\n",
    "- Epoch, Batch 사용\n",
    "- train(), evalutate() 확인"
   ]
  },
  {
   "cell_type": "markdown",
   "id": "d59cb4ed",
   "metadata": {},
   "source": [
    "#### 신경망 클래스 정의"
   ]
  },
  {
   "cell_type": "code",
   "execution_count": 141,
   "id": "56b202af",
   "metadata": {},
   "outputs": [],
   "source": [
    "# 아이리스용 신경망\n",
    "class IrisNet(nn.Module):\n",
    "    def __init__(self):\n",
    "        super(IrisNet.self).__init__()\n",
    "        self.fc1 = nn.Linear(4, 16)     # fc1 : Full Connected Layer / tensorflow Dense()와 동일\n",
    "        self.fc2 = nn.Linear(16, 3)\n",
    "\n",
    "    def forward(self, x):\n",
    "        x = F.relu(self.fc1(x))\n",
    "        x = self.fc2(x)\n",
    "        return x"
   ]
  },
  {
   "cell_type": "markdown",
   "id": "0d2a7b91",
   "metadata": {},
   "source": [
    "#### 데이터 준비"
   ]
  },
  {
   "cell_type": "code",
   "execution_count": 143,
   "id": "dd4937bd",
   "metadata": {},
   "outputs": [],
   "source": [
    "# 커스텀 데이터셋\n",
    "class IrisDataset(Dataset):\n",
    "    def __init__(self, X, y):\n",
    "        self.X = torch.tensor(X, dtype=torch.float32)\n",
    "        self.y = torch.tensor(y, dtype=torch.long)\n",
    "\n",
    "    def __len__(self):\n",
    "        return len(self.X)\n",
    "    \n",
    "    def __getitem__(self, index):\n",
    "        return self.X[index], self.y[index]\n",
    "    \n",
    "iris = load_iris()\n",
    "X = StandardScaler().fit_transform(iris.data)\n",
    "y = iris.target\n",
    "\n",
    "X_train, X_val, y_train, y_val = train_test_split(X, y, test_size=0.2, random_state=42)\n",
    "\n",
    "# Dataset, DataLoader 합쳐서 생성\n",
    "train_loader = DataLoader(IrisDataset(X_train, y_train), batch_size=8, shuffle=True)\n",
    "val_loader = DataLoader(IrisDataset(X_val, y_val), batch_size=8)\n"
   ]
  },
  {
   "cell_type": "markdown",
   "id": "a039b7de",
   "metadata": {},
   "source": [
    "#### 모델 디바이스 전달"
   ]
  },
  {
   "cell_type": "code",
   "execution_count": 160,
   "id": "06c6df1c",
   "metadata": {},
   "outputs": [
    {
     "ename": "AttributeError",
     "evalue": "type object 'IrisNet' has no attribute 'self'",
     "output_type": "error",
     "traceback": [
      "\u001b[31m---------------------------------------------------------------------------\u001b[39m",
      "\u001b[31mAttributeError\u001b[39m                            Traceback (most recent call last)",
      "\u001b[36mCell\u001b[39m\u001b[36m \u001b[39m\u001b[32mIn[160]\u001b[39m\u001b[32m, line 1\u001b[39m\n\u001b[32m----> \u001b[39m\u001b[32m1\u001b[39m model = \u001b[43mIrisNet\u001b[49m\u001b[43m(\u001b[49m\u001b[43m)\u001b[49m.to(device)\n\u001b[32m      3\u001b[39m criterion = nn.CrossEntropyLoss()\n\u001b[32m      4\u001b[39m optimizer = torch.optim.Adam(model.parameters(), lr=\u001b[32m0.01\u001b[39m)\n",
      "\u001b[36mCell\u001b[39m\u001b[36m \u001b[39m\u001b[32mIn[141]\u001b[39m\u001b[32m, line 4\u001b[39m, in \u001b[36mIrisNet.__init__\u001b[39m\u001b[34m(self)\u001b[39m\n\u001b[32m      3\u001b[39m \u001b[38;5;28;01mdef\u001b[39;00m\u001b[38;5;250m \u001b[39m\u001b[34m__init__\u001b[39m(\u001b[38;5;28mself\u001b[39m):\n\u001b[32m----> \u001b[39m\u001b[32m4\u001b[39m     \u001b[38;5;28msuper\u001b[39m(\u001b[43mIrisNet\u001b[49m\u001b[43m.\u001b[49m\u001b[43mself\u001b[49m).\u001b[34m__init__\u001b[39m()\n\u001b[32m      5\u001b[39m     \u001b[38;5;28mself\u001b[39m.fc1 = nn.Linear(\u001b[32m4\u001b[39m, \u001b[32m16\u001b[39m)     \u001b[38;5;66;03m# fc1 : Full Connected Layer / tensorflow Dense()와 동일\u001b[39;00m\n\u001b[32m      6\u001b[39m     \u001b[38;5;28mself\u001b[39m.fc2 = nn.Linear(\u001b[32m16\u001b[39m, \u001b[32m3\u001b[39m)\n",
      "\u001b[31mAttributeError\u001b[39m: type object 'IrisNet' has no attribute 'self'"
     ]
    }
   ],
   "source": [
    "model = IrisNet().to(device)\n",
    "\n",
    "criterion = nn.CrossEntropyLoss()\n",
    "optimizer = torch.optim.Adam(model.parameters(), lr=0.01)"
   ]
  },
  {
   "cell_type": "code",
   "execution_count": null,
   "id": "ac2a9dad",
   "metadata": {},
   "outputs": [],
   "source": []
  },
  {
   "cell_type": "markdown",
   "id": "2539e958",
   "metadata": {},
   "source": [
    "#### 훈련루프 함수 / 평가함수"
   ]
  },
  {
   "cell_type": "code",
   "execution_count": 151,
   "id": "202865ae",
   "metadata": {},
   "outputs": [],
   "source": [
    "# 학습루프 함수\n",
    "def train(model, dataloader, crierion, optimizer):\n",
    "    model.train()   # 훈련모드\n",
    "    total_loss = 0\n",
    "\n",
    "    for X_batch, y_batch in dataloader:\n",
    "        X_batch, y_batch = X_batch.to(device), y_batch.to(device)\n",
    "\n",
    "        optimizer.zero_grad()\n",
    "        outputs = model(X_batch)\n",
    "        loss = creterion(outputs, y_batch)\n",
    "        loss.backward()\n",
    "        optimizer.step()\n",
    "\n",
    "        total_loss += loss.item()\n",
    "\n",
    "    avg_loss = total_loss / len(dataloader)\n",
    "    return avg_loss"
   ]
  },
  {
   "cell_type": "code",
   "execution_count": 163,
   "id": "ab43a8c0",
   "metadata": {},
   "outputs": [],
   "source": [
    "# 평가함수\n",
    "def evaluate(model, dataloader, creterion):\n",
    "    model.eval()    # 평가모드\n",
    "    total_loss = 0\n",
    "    correct = torch.nn\n",
    "    total = 0\n",
    "\n",
    "    with torch.no_grad():    # 평가시에는 그레디언트 꺼줌\n",
    "        for X_batch, y_batch in dataloader:\n",
    "            X_batch, y_batch = X_batch.to(device), y_batch.to(device)\n",
    "            outputs = model(X_batch)\n",
    "            loss = creterion(outputs, y_batch)\n",
    "            total_loss += loss.item()\n",
    "\n",
    "            # 정확도\n",
    "            preds = torch.argmax(outputs, dim=1)    # 0, 1, 2 증 제일 확률이 큰 값을 인덱스 (0, 1, 2) 중 하나 값 선택\n",
    "            correct += (preds == y_batch).sum().item()\n",
    "            total += y_batch.size(0)\n",
    "\n",
    "    av_loss = total_loss / len(dataloader)\n",
    "    accuracy = correct / total\n",
    "    return avg_loss, accuracy\n",
    "    "
   ]
  },
  {
   "cell_type": "markdown",
   "id": "99aedd4d",
   "metadata": {},
   "source": [
    "#### 훈련 실행"
   ]
  },
  {
   "cell_type": "code",
   "execution_count": 161,
   "id": "ebf4a95a",
   "metadata": {},
   "outputs": [],
   "source": [
    "import torch.nn as nn\n",
    "\n",
    "criterion = nn.CrossEntropyLoss()"
   ]
  },
  {
   "cell_type": "code",
   "execution_count": 1,
   "id": "b2f5346d",
   "metadata": {},
   "outputs": [
    {
     "ename": "NameError",
     "evalue": "name 'train' is not defined",
     "output_type": "error",
     "traceback": [
      "\u001b[31m---------------------------------------------------------------------------\u001b[39m",
      "\u001b[31mNameError\u001b[39m                                 Traceback (most recent call last)",
      "\u001b[36mCell\u001b[39m\u001b[36m \u001b[39m\u001b[32mIn[1]\u001b[39m\u001b[32m, line 4\u001b[39m\n\u001b[32m      1\u001b[39m EPOCH = \u001b[32m20\u001b[39m\n\u001b[32m      3\u001b[39m \u001b[38;5;28;01mfor\u001b[39;00m epoch \u001b[38;5;129;01min\u001b[39;00m \u001b[38;5;28mrange\u001b[39m(EPOCH):\n\u001b[32m----> \u001b[39m\u001b[32m4\u001b[39m     train_loss = \u001b[43mtrain\u001b[49m(model, train_loader, criterion, optimizer)\n\u001b[32m      5\u001b[39m     val_loss, val_acc = evaluate(model, val_loader, criterion)\n\u001b[32m      7\u001b[39m     \u001b[38;5;28mprint\u001b[39m(\u001b[33mf\u001b[39m\u001b[33m'\u001b[39m\u001b[33m[\u001b[39m\u001b[38;5;132;01m{\u001b[39;00mepoch+\u001b[32m1\u001b[39m\u001b[38;5;132;01m}\u001b[39;00m\u001b[33m/\u001b[39m\u001b[38;5;132;01m{\u001b[39;00mEPOCH\u001b[38;5;132;01m}\u001b[39;00m\u001b[33m] Train Loss: \u001b[39m\u001b[38;5;132;01m{\u001b[39;00mtrain_loss\u001b[38;5;132;01m:\u001b[39;00m\u001b[33m.3f\u001b[39m\u001b[38;5;132;01m}\u001b[39;00m\u001b[33m | Val Loss: \u001b[39m\u001b[38;5;132;01m{\u001b[39;00mval_loss\u001b[38;5;132;01m:\u001b[39;00m\u001b[33m.3f\u001b[39m\u001b[38;5;132;01m}\u001b[39;00m\u001b[33m, Val Accuracy: \u001b[39m\u001b[38;5;132;01m{\u001b[39;00mval_acc\u001b[38;5;132;01m:\u001b[39;00m\u001b[33m.2%\u001b[39m\u001b[38;5;132;01m}\u001b[39;00m\u001b[33m'\u001b[39m)\n",
      "\u001b[31mNameError\u001b[39m: name 'train' is not defined"
     ]
    }
   ],
   "source": [
    "EPOCH = 20\n",
    "\n",
    "for epoch in range(EPOCH):\n",
    "    train_loss = train(model, train_loader, criterion, optimizer)\n",
    "    val_loss, val_acc = evaluate(model, val_loader, criterion)\n",
    "\n",
    "    print(f'[{epoch+1}/{EPOCH}] Train Loss: {train_loss:.3f} | Val Loss: {val_loss:.3f}, Val Accuracy: {val_acc:.2%}')"
   ]
  },
  {
   "cell_type": "markdown",
   "id": "92c4babf",
   "metadata": {},
   "source": [
    "- CUDA로 0.7s"
   ]
  }
 ],
 "metadata": {
  "kernelspec": {
   "display_name": "mlvenv",
   "language": "python",
   "name": "python3"
  },
  "language_info": {
   "codemirror_mode": {
    "name": "ipython",
    "version": 3
   },
   "file_extension": ".py",
   "mimetype": "text/x-python",
   "name": "python",
   "nbconvert_exporter": "python",
   "pygments_lexer": "ipython3",
   "version": "3.11.9"
  }
 },
 "nbformat": 4,
 "nbformat_minor": 5
}

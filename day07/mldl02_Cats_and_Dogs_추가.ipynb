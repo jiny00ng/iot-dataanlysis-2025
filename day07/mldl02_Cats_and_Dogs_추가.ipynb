{
 "cells": [
  {
   "cell_type": "markdown",
   "id": "5a2aa211",
   "metadata": {},
   "source": []
  },
  {
   "cell_type": "code",
   "execution_count": null,
   "id": "58b50e1d",
   "metadata": {},
   "outputs": [],
   "source": []
  }
 ],
 "metadata": {
  "kernelspec": {
   "display_name": "mlvenv",
   "language": "python",
   "name": "python3"
  },
  "language_info": {
   "name": "python",
   "version": "3.11.9"
  }
 },
 "nbformat": 4,
 "nbformat_minor": 5
}

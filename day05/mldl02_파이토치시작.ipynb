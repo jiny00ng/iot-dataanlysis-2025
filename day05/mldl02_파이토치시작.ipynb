{
 "cells": [
  {
   "cell_type": "markdown",
   "id": "5b2948b2",
   "metadata": {},
   "source": [
    "## 파이토치 시작\n",
    "\n",
    "### 파이토치\n",
    "- https://pytorch.org\n",
    "- https://www.ultralytics.com/ko 와 손잡고 YOLO 개발\n",
    "    - 물체인식, 영상인식 분야에 트렌드\n",
    "\n",
    "<img src=\"../image/ml0016.png\" width=\"700\">"
   ]
  },
  {
   "cell_type": "markdown",
   "id": "9ec536fe",
   "metadata": {},
   "source": [
    "#### 파이토치 GPU와 같이 사용하려면\n",
    "- NVIDIA CUDA 설치, 확인\n",
    "- cuDNN(CUDA 상에서 사용하는 여러 패키지) 설치\n",
    "- CUDA 버전에 맞는 PyTorch 설치\n",
    "\n",
    "#### Tensorflow GPU\n",
    "- NVIDIA CUDA 상에서 동작\n",
    "- 윈도우에서는 설치가 무지 어려움"
   ]
  },
  {
   "cell_type": "markdown",
   "id": "fbabdd3a",
   "metadata": {},
   "source": [
    "##### NIVIDIA 설정\n",
    "- PowerShell 에서\n",
    "```shell\n",
    "> nvidia-smi\n",
    "- 그래픽카드 설명 표시\n",
    "```\n",
    "- NVIDIA GeForce RTX... 표시가 되면 사용가능"
   ]
  },
  {
   "cell_type": "markdown",
   "id": "0e38df8b",
   "metadata": {},
   "source": [
    "##### CUDA 설치\n",
    "- https://developer.nvidia.com/cuda-11-8-0-download-archive\n",
    "\n",
    "    - Operating System : Windows\n",
    "    - Architecture : x86_64\n",
    "    - version : 11(Window)\n",
    "    - Installer Type : exe(local)\n",
    "    - Base Installer : Download(3.0GB) 클릭\n",
    "\n",
    "- Installer 설치"
   ]
  },
  {
   "cell_type": "markdown",
   "id": "78565d05",
   "metadata": {},
   "source": [
    "##### cuDNN 11.8\n",
    "- https://developer.nvidia.com/rdp/cudnn-archive\n",
    "    - Download cuDNN v8.6.0 (November 28th, 2022), for CUDA 11.x\n",
    "\n",
    "- 압축해제 후 CUDA 위치에 붙여넣기 하면 끝\n",
    "\n",
    "- 터미널 또는 파워쉘에서 \n",
    "\n",
    "```shell\n",
    "> nvcc --version\n",
    "PS C:\\Users\\Admin> nvcc --version\n",
    "nvcc: NVIDIA (R) Cuda compiler driver\n",
    "Copyright (c) 2005-2022 NVIDIA Corporation\n",
    "Built on Wed_Sep_21_10:41:10_Pacific_Daylight_Time_2022\n",
    "Cuda compilation tools, release 11.8, V11.8.89\n",
    "Build cuda_11.8.r11.8/compiler.31833905_0\n",
    "```"
   ]
  },
  {
   "cell_type": "markdown",
   "id": "e16d39fb",
   "metadata": {},
   "source": [
    "#### PyTorch 설치\n",
    "<img src=\"../image/ml0017.png\" width=\"750\">\n",
    "\n",
    "- 콘솔에서 아래 명령어 실행\n",
    "\n",
    "\n",
    "```shell\n",
    "> pip install torch torchvision torchaudio --index-url https://download.pytorch.org/whl/cu118\n",
    "```"
   ]
  },
  {
   "cell_type": "markdown",
   "id": "3bf55c00",
   "metadata": {},
   "source": [
    "파이토치 확인"
   ]
  },
  {
   "cell_type": "code",
   "execution_count": 1,
   "id": "979098e7",
   "metadata": {},
   "outputs": [],
   "source": [
    "# 파이토치 모듈 사용\n",
    "import torch"
   ]
  },
  {
   "cell_type": "code",
   "execution_count": 3,
   "id": "e4595425",
   "metadata": {},
   "outputs": [
    {
     "data": {
      "text/plain": [
       "device(type='cuda')"
      ]
     },
     "execution_count": 3,
     "metadata": {},
     "output_type": "execute_result"
    }
   ],
   "source": [
    "device = torch.device('cuda' if torch.cuda.is_available() else 'cpu')\n",
    "device"
   ]
  },
  {
   "cell_type": "code",
   "execution_count": null,
   "id": "fe42b91e",
   "metadata": {},
   "outputs": [],
   "source": []
  }
 ],
 "metadata": {
  "kernelspec": {
   "display_name": "mlvenv",
   "language": "python",
   "name": "python3"
  },
  "language_info": {
   "codemirror_mode": {
    "name": "ipython",
    "version": 3
   },
   "file_extension": ".py",
   "mimetype": "text/x-python",
   "name": "python",
   "nbconvert_exporter": "python",
   "pygments_lexer": "ipython3",
   "version": "3.11.9"
  }
 },
 "nbformat": 4,
 "nbformat_minor": 5
}
